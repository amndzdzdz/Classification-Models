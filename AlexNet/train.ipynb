{
 "cells": [
  {
   "cell_type": "code",
   "execution_count": null,
   "metadata": {},
   "outputs": [],
   "source": [
    "from dataset import ZIFAR10\n",
    "from torch.utils.data import DataLoader\n",
    "from torch import optim\n",
    "from model import alexnet\n",
    "import torch.nn as nn\n",
    "import torch"
   ]
  },
  {
   "cell_type": "code",
   "execution_count": null,
   "metadata": {},
   "outputs": [],
   "source": [
    "train_dataset = ZIFAR10(root='data', train=True, download=True)\n",
    "test_dataset = ZIFAR10(root='data', train=False, download=True)\n",
    "\n",
    "train_loader = DataLoader(train_dataset, batch_size=8, shuffle=True)\n",
    "test_loader = DataLoader(test_dataset, batch_size=8, shuffle=False)"
   ]
  },
  {
   "cell_type": "code",
   "execution_count": null,
   "metadata": {},
   "outputs": [],
   "source": [
    "import matplotlib.pyplot as plt\n",
    "import numpy as np\n",
    "for image, label in train_loader:\n",
    "    img = image[0].permute(1, 2, 0).numpy()\n",
    "    plt.imshow(img)\n",
    "    plt.show()\n",
    "    break"
   ]
  },
  {
   "cell_type": "code",
   "execution_count": null,
   "metadata": {},
   "outputs": [],
   "source": [
    "num_epochs = 10\n",
    "device = torch.device('cuda' if torch.cuda.is_available() else 'cpu')\n",
    "print('Using device:', device)\n",
    "\n",
    "model = alexnet(3, 10)\n",
    "model = model.to(device)\n",
    "\n",
    "optimizer = optim.SGD(model.parameters(), weight_decay=0.0005, lr=0.0001 ,momentum=0.9)\n",
    "criterion = nn.CrossEntropyLoss()"
   ]
  },
  {
   "cell_type": "code",
   "execution_count": null,
   "metadata": {},
   "outputs": [],
   "source": [
    "def train_one_episode(epoch):\n",
    "    model.train()\n",
    "    train_loss = 0\n",
    "    num_train_batches = 0\n",
    "    for batch in train_loader:\n",
    "        num_train_batches += 1\n",
    "        \n",
    "        data, target = batch\n",
    "        data, target = data.float().to(device), target.long().to(device)\n",
    "\n",
    "        optimizer.zero_grad()\n",
    "        pred = model(data)\n",
    "        loss = criterion(pred, target)\n",
    "        train_loss += loss.item()\n",
    "        loss.backward()\n",
    "\n",
    "        # for name, param in model.named_parameters():\n",
    "        #     if param.grad is not None:\n",
    "        #         print(f\"Epoch {epoch}, Batch {num_train_batches}, {name} grad mean: {param.grad.abs().mean()}\")\n",
    "\n",
    "        optimizer.step()\n",
    "\n",
    "        if num_train_batches % 100 == 0:\n",
    "            print(f'Epoch {epoch}, Train Loss: {loss.item()}')\n",
    "\n",
    "def validate(epoch):\n",
    "    cum_loss = 0\n",
    "    num_val_batches = 0\n",
    "\n",
    "    model.eval()\n",
    "    with torch.no_grad():\n",
    "        for batch in test_loader:\n",
    "            num_val_batches += 1\n",
    "            data, target = batch\n",
    "            data, target = data.float().to(device), target.long().to(device)\n",
    "\n",
    "            pred = model(data)\n",
    "            loss = criterion(pred, target)\n",
    "            cum_loss += loss.item()\n",
    "\n",
    "    print(f\"Epoch {epoch}, Validation Loss: {cum_loss/num_val_batches}\")    "
   ]
  },
  {
   "cell_type": "code",
   "execution_count": null,
   "metadata": {},
   "outputs": [],
   "source": [
    "for epoch in range(num_epochs):\n",
    "    train_one_episode(epoch)\n",
    "    validate(epoch)"
   ]
  },
  {
   "cell_type": "code",
   "execution_count": null,
   "metadata": {},
   "outputs": [],
   "source": []
  }
 ],
 "metadata": {
  "kernelspec": {
   "display_name": "alexnet",
   "language": "python",
   "name": "python3"
  },
  "language_info": {
   "codemirror_mode": {
    "name": "ipython",
    "version": 3
   },
   "file_extension": ".py",
   "mimetype": "text/x-python",
   "name": "python",
   "nbconvert_exporter": "python",
   "pygments_lexer": "ipython3",
   "version": "3.10.14"
  }
 },
 "nbformat": 4,
 "nbformat_minor": 2
}
